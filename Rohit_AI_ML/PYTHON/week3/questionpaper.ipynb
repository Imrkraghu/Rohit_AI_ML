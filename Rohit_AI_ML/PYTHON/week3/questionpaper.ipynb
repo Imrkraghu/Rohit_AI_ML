{
 "cells": [
  {
   "cell_type": "markdown",
   "metadata": {},
   "source": [
    "Wriet a program to fetch all numbers which are divisible by 3 and 5"
   ]
  },
  {
   "cell_type": "code",
   "execution_count": 15,
   "metadata": {},
   "outputs": [
    {
     "name": "stdout",
     "output_type": "stream",
     "text": [
      "15 30\n"
     ]
    }
   ],
   "source": [
    "lst = [5,9,15,20,25,30,35,40]\n",
    "print(*(x for x in lst if x%3==0 and x%5==0))"
   ]
  },
  {
   "cell_type": "markdown",
   "metadata": {},
   "source": [
    "Create a dictionary with three pairs and update anyone"
   ]
  },
  {
   "cell_type": "code",
   "execution_count": 5,
   "metadata": {},
   "outputs": [
    {
     "name": "stdout",
     "output_type": "stream",
     "text": [
      "the old dictionary is {'python': 45, 'math': 95, 'English': 70}\n",
      "the new dictionary is {'python': 95, 'math': 95, 'English': 70}\n"
     ]
    }
   ],
   "source": [
    "Marks ={\n",
    "    \"python\":45,\n",
    "    \"math\":95,\n",
    "    \"English\":70\n",
    "}\n",
    "print(f\"the old dictionary is {Marks}\")\n",
    "Marks[\"python\"]=95\n",
    "print(f\"the new dictionary is {Marks}\")"
   ]
  },
  {
   "cell_type": "markdown",
   "metadata": {},
   "source": [
    "Write a program to write vowels in uppercase and consonants in lowercase of the same string given by the user"
   ]
  },
  {
   "cell_type": "code",
   "execution_count": 7,
   "metadata": {},
   "outputs": [
    {
     "name": "stdout",
     "output_type": "stream",
     "text": [
      "Transformed String:  hEllO bEAUtIfU\n"
     ]
    }
   ],
   "source": [
    "def transformtext(inputstring):\n",
    "    vowels =\"aeiouAEIOU\"\n",
    "    transformedstring=\"\"\n",
    "    for char in userinput:\n",
    "        if char in vowels:\n",
    "            transformedstring +=char.upper()\n",
    "        else:\n",
    "            transformedstring +=char.lower()\n",
    "    return transformedstring\n",
    "userinput = input(\"enter a string: \")\n",
    "result = transformtext(userinput)\n",
    "print(\"Transformed String: \", result)"
   ]
  },
  {
   "cell_type": "markdown",
   "metadata": {},
   "source": [
    "write a program to remove al vowels form the string "
   ]
  },
  {
   "cell_type": "code",
   "execution_count": 1,
   "metadata": {},
   "outputs": [
    {
     "name": "stdout",
     "output_type": "stream",
     "text": [
      "Transformed String:  hll btfl\n"
     ]
    }
   ],
   "source": [
    "def transformtext(inputstring):\n",
    "    vowels =\"aeiouAEIOU\"\n",
    "    transformedstring=\"\"\n",
    "    for char in userinput:\n",
    "        if char in vowels:\n",
    "            continue\n",
    "        else:\n",
    "            transformedstring +=char\n",
    "    return transformedstring\n",
    "userinput = input(\"enter a string: \")\n",
    "result = transformtext(userinput)\n",
    "print(\"Transformed String: \", result)"
   ]
  },
  {
   "cell_type": "markdown",
   "metadata": {},
   "source": [
    "Write a program to find the highest number of list elements"
   ]
  },
  {
   "cell_type": "code",
   "execution_count": 3,
   "metadata": {},
   "outputs": [
    {
     "name": "stdout",
     "output_type": "stream",
     "text": [
      "The biggest number is  67\n"
     ]
    }
   ],
   "source": [
    "def highest():\n",
    "    lst=[10,45,30,67,23,43]\n",
    "    big = lst[0]\n",
    "    for i in lst:\n",
    "        if i>big:\n",
    "            big = i\n",
    "    return big\n",
    "print(\"The biggest number is \", highest())"
   ]
  },
  {
   "cell_type": "code",
   "execution_count": 9,
   "metadata": {},
   "outputs": [
    {
     "name": "stdout",
     "output_type": "stream",
     "text": [
      "longest palindome is   9\n"
     ]
    }
   ],
   "source": [
    "def highest():\n",
    "    lst=[\"madam\",\"python\",\"eye\",\"dad\",\"language\",\"malayalam\"]\n",
    "    pali =[]\n",
    "    longest = 0\n",
    "    # check if its a palindrome\n",
    "    for i in lst:\n",
    "        if i==i[::-1]:\n",
    "            pali.append(i)\n",
    "    for i in pali:\n",
    "        if (len(i)> int(longest)):\n",
    "            longest = len(i)\n",
    "    return longest\n",
    "print(\"longest palindome is  \", highest())"
   ]
  },
  {
   "cell_type": "code",
   "execution_count": 19,
   "metadata": {},
   "outputs": [
    {
     "name": "stdout",
     "output_type": "stream",
     "text": [
      "['is', 'an', 'easy']\n"
     ]
    }
   ],
   "source": [
    "\n",
    "#return characters whose len is 4 or less\n",
    "st =\"Python is an easy language\"\n",
    "stchar =st.split()\n",
    "lst = [x for x in stchar if len(x)<=4]\n",
    "print(lst)"
   ]
  },
  {
   "cell_type": "code",
   "execution_count": 23,
   "metadata": {},
   "outputs": [
    {
     "name": "stdout",
     "output_type": "stream",
     "text": [
      "[6, 2, 6, 3, 4, 8]\n"
     ]
    }
   ],
   "source": [
    "st =\"Python is simple and easy language\"\n",
    "stchar =st.split()\n",
    "length = [len(x) for x in stchar]\n",
    "print(length)"
   ]
  },
  {
   "cell_type": "markdown",
   "metadata": {},
   "source": [
    "program to fetch all palindrome with length more then 3"
   ]
  },
  {
   "cell_type": "markdown",
   "metadata": {},
   "source": []
  },
  {
   "cell_type": "code",
   "execution_count": 29,
   "metadata": {},
   "outputs": [
    {
     "name": "stdout",
     "output_type": "stream",
     "text": [
      "['madam', 'malayalam']\n"
     ]
    }
   ],
   "source": [
    "names=[\"madam\",\"python\",\"eye\",\"dad\",\"language\",\"malayalam\"]\n",
    "pali =[]\n",
    "# check if its a plaindrome\n",
    "for i in names:\n",
    "    if i== i[::-1]:\n",
    "        pali.append(i)\n",
    "        palin = [i for i in pali if len(i)>3]\n",
    "print(palin)"
   ]
  },
  {
   "cell_type": "markdown",
   "metadata": {},
   "source": [
    "Take one dictionary and add a new value"
   ]
  },
  {
   "cell_type": "code",
   "execution_count": 31,
   "metadata": {},
   "outputs": [
    {
     "name": "stdout",
     "output_type": "stream",
     "text": [
      "the old dictionary is {'python': 55, 'math': 68, 'english': 85}\n",
      "the old dictionary is {'python': 55, 'math': 68, 'english': 85, 'AIML': 86}\n"
     ]
    }
   ],
   "source": [
    "marks = {\"python\":55,\"math\":68,\"english\":85}\n",
    "print(f\"the old dictionary is {marks}\")\n",
    "marks[\"AIML\"]=86\n",
    "print(f\"the old dictionary is {marks}\")"
   ]
  },
  {
   "cell_type": "markdown",
   "metadata": {},
   "source": [
    "A program on moonlighting"
   ]
  },
  {
   "cell_type": "code",
   "execution_count": 1,
   "metadata": {},
   "outputs": [],
   "source": [
    "#very big will continue it later"
   ]
  },
  {
   "cell_type": "markdown",
   "metadata": {},
   "source": [
    "Using while loop write a program to generate all seven divisible from range -21 to 21"
   ]
  },
  {
   "cell_type": "code",
   "execution_count": 2,
   "metadata": {},
   "outputs": [
    {
     "name": "stdout",
     "output_type": "stream",
     "text": [
      "-21\n",
      "-14\n",
      "-7\n",
      "0\n",
      "7\n",
      "14\n",
      "21\n"
     ]
    }
   ],
   "source": [
    "num =-21\n",
    "while num <= 21:\n",
    "    if num%7==0:\n",
    "        print(num)\n",
    "    num +=1"
   ]
  },
  {
   "cell_type": "code",
   "execution_count": 3,
   "metadata": {},
   "outputs": [
    {
     "name": "stdout",
     "output_type": "stream",
     "text": [
      "1\n",
      "3\n",
      "4\n",
      "5\n",
      "7\n",
      "8\n",
      "9\n",
      "10\n"
     ]
    }
   ],
   "source": [
    "num =1\n",
    "while num <= 10:\n",
    "    if 6 !=num!=2: \n",
    "        print(num)\n",
    "    num +=1"
   ]
  },
  {
   "cell_type": "code",
   "execution_count": 10,
   "metadata": {},
   "outputs": [
    {
     "name": "stdout",
     "output_type": "stream",
     "text": [
      "15\n",
      "14\n",
      "13\n",
      "11\n",
      "10\n",
      "8\n",
      "7\n",
      "5\n",
      "4\n",
      "2\n",
      "1\n"
     ]
    }
   ],
   "source": [
    "num =15\n",
    "while num >= 1:\n",
    "    if num%3!=0:\n",
    "        print(num)\n",
    "    elif num==15:\n",
    "        print(num)\n",
    "    num -=1"
   ]
  },
  {
   "cell_type": "code",
   "execution_count": 3,
   "metadata": {},
   "outputs": [
    {
     "name": "stdout",
     "output_type": "stream",
     "text": [
      "-2\n",
      "0\n",
      "2\n"
     ]
    }
   ],
   "source": [
    "num =-2\n",
    "while num <= 2:\n",
    "    if -1!=num!=1:\n",
    "        print(num)\n",
    "    num +=1"
   ]
  },
  {
   "cell_type": "code",
   "execution_count": 8,
   "metadata": {},
   "outputs": [
    {
     "name": "stdout",
     "output_type": "stream",
     "text": [
      "15\n",
      "12\n",
      "9\n",
      "6\n",
      "3\n",
      "0\n",
      "-3\n",
      "-6\n",
      "-9\n",
      "-12\n",
      "-15\n"
     ]
    }
   ],
   "source": [
    "num =15\n",
    "while num >= -15:\n",
    "    if num%3==0:\n",
    "        print(num)\n",
    "    num -=1"
   ]
  },
  {
   "cell_type": "markdown",
   "metadata": {},
   "source": [
    "Monkey Patching in python"
   ]
  },
  {
   "cell_type": "markdown",
   "metadata": {},
   "source": []
  },
  {
   "cell_type": "code",
   "execution_count": 1,
   "metadata": {},
   "outputs": [
    {
     "name": "stdout",
     "output_type": "stream",
     "text": [
      "-2\n",
      "0\n",
      "2\n"
     ]
    }
   ],
   "source": []
  },
  {
   "cell_type": "code",
   "execution_count": null,
   "metadata": {},
   "outputs": [],
   "source": []
  }
 ],
 "metadata": {
  "kernelspec": {
   "display_name": ".venv",
   "language": "python",
   "name": "python3"
  },
  "language_info": {
   "codemirror_mode": {
    "name": "ipython",
    "version": 3
   },
   "file_extension": ".py",
   "mimetype": "text/x-python",
   "name": "python",
   "nbconvert_exporter": "python",
   "pygments_lexer": "ipython3",
   "version": "3.9.13"
  }
 },
 "nbformat": 4,
 "nbformat_minor": 2
}
