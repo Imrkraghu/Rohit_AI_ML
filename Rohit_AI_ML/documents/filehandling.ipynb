{
 "cells": [
  {
   "cell_type": "markdown",
   "id": "b47f0ebb",
   "metadata": {},
   "source": [
    "write a program to fetch all data from the file"
   ]
  },
  {
   "cell_type": "code",
   "execution_count": 24,
   "id": "49de623f",
   "metadata": {},
   "outputs": [
    {
     "name": "stdout",
     "output_type": "stream",
     "text": [
      "TCS,Sai,Rohit,Satya,Dhoni,Sarath,Saroj,Venkat,Sas\n",
      "INFOSYS,Kohli,Santosh,Venkat,Koti,Prabha,Soumya,Mishra\n",
      "WIPRO,Satya,Kohli,Ram,Chinna,Pop,Amelia,Suresh,Arjuna\n",
      "CTS,Prabha,Subha,Debha,Rabha,Venkat,Dhoni,Surya,Saroj\n",
      "NTH,Narayana,Akhil,Arha,Venkat,Sravya,Ananya,Revanth,Aha\n",
      "ABC,Arha,Chinna,Satya,Dhoni,Venkat,Rohit,Yash,Nikhilesh\n"
     ]
    }
   ],
   "source": [
    "a = open(\"nthdata.txt\", \"r\")\n",
    "b = a.read()\n",
    "print(b)\n",
    "a.close()"
   ]
  },
  {
   "cell_type": "markdown",
   "id": "06962452",
   "metadata": {},
   "source": [
    "Write a program to read the first line from the file"
   ]
  },
  {
   "cell_type": "code",
   "execution_count": null,
   "id": "d80cd8f1",
   "metadata": {},
   "outputs": [
    {
     "name": "stdout",
     "output_type": "stream",
     "text": [
      "TCS,Sai,Rohit,Satya,Dhoni,Sarath,Saroj,Venkat,Sas\n",
      "\n"
     ]
    }
   ],
   "source": [
    "a = open(\"nthdata.txt\", \"r\")\n",
    "b = a.readline()\n",
    "print(b)\n",
    "a.close()"
   ]
  },
  {
   "cell_type": "markdown",
   "id": "db91508e",
   "metadata": {},
   "source": [
    "Write a program to read the last line from the file"
   ]
  },
  {
   "cell_type": "code",
   "execution_count": 6,
   "id": "ab707c0a",
   "metadata": {},
   "outputs": [
    {
     "name": "stdout",
     "output_type": "stream",
     "text": [
      "ABC,Arha,Chinna,Satya,Dhoni,Venkat,Rohit,Yash,Nikhilesh\n"
     ]
    }
   ],
   "source": [
    "a = open(\"nthdata.txt\", \"r\")\n",
    "b = a.readlines()\n",
    "c = b[-1]\n",
    "print(c)"
   ]
  },
  {
   "cell_type": "markdown",
   "id": "05296f36",
   "metadata": {},
   "source": [
    "Write a program to read the 3rd line from the file"
   ]
  },
  {
   "cell_type": "code",
   "execution_count": 12,
   "id": "9f219b37",
   "metadata": {},
   "outputs": [
    {
     "name": "stdout",
     "output_type": "stream",
     "text": [
      "WIPRO,Satya,Kohli,Ram,Chinna,Pop,Amelia,Suresh,Arjuna\n",
      "\n"
     ]
    }
   ],
   "source": [
    "a = open(\"nthdata.txt\", \"r\")\n",
    "b = a.readlines()\n",
    "c = b[2]\n",
    "print(c)\n",
    "a.close()"
   ]
  },
  {
   "cell_type": "markdown",
   "id": "5651ec7b",
   "metadata": {},
   "source": [
    "Write a program to count total number of character in the file"
   ]
  },
  {
   "cell_type": "code",
   "execution_count": 13,
   "id": "9e068266",
   "metadata": {},
   "outputs": [
    {
     "name": "stdout",
     "output_type": "stream",
     "text": [
      "325\n"
     ]
    }
   ],
   "source": [
    "a = open(\"nthdata.txt\", \"r\")\n",
    "b = a.read()\n",
    "print(len(b))\n",
    "a.close()"
   ]
  },
  {
   "cell_type": "markdown",
   "id": "f7cee27e",
   "metadata": {},
   "source": [
    "Write a Program to count total number of comma in the file"
   ]
  },
  {
   "cell_type": "code",
   "execution_count": 17,
   "id": "cc29daae",
   "metadata": {},
   "outputs": [
    {
     "name": "stdout",
     "output_type": "stream",
     "text": [
      "47\n"
     ]
    }
   ],
   "source": [
    "a = open(\"nthdata.txt\", \"r\")\n",
    "b = a.read()\n",
    "c = b.count(',')\n",
    "print(c)\n",
    "a.close()"
   ]
  },
  {
   "cell_type": "markdown",
   "id": "ae94f1d9",
   "metadata": {},
   "source": [
    "Write a progrsm to count total number of words in the 1st line in the file"
   ]
  },
  {
   "cell_type": "code",
   "execution_count": 23,
   "id": "4bfeee92",
   "metadata": {},
   "outputs": [
    {
     "name": "stdout",
     "output_type": "stream",
     "text": [
      "9\n"
     ]
    }
   ],
   "source": [
    "a = open(\"nthdata.txt\", \"r\")\n",
    "b = a.readline()\n",
    "c = b.split(',')\n",
    "print(len(c))"
   ]
  },
  {
   "cell_type": "markdown",
   "id": "a50f566e",
   "metadata": {},
   "source": [
    "Write a progrsm to count total number of lines in the files"
   ]
  },
  {
   "cell_type": "code",
   "execution_count": null,
   "id": "6d49ab60",
   "metadata": {},
   "outputs": [
    {
     "name": "stdout",
     "output_type": "stream",
     "text": [
      "6\n"
     ]
    }
   ],
   "source": [
    "a = open(\"nthdata.txt\", \"r\")\n",
    "b = a.readlines()\n",
    "print(len(b))\n",
    "a.close()"
   ]
  },
  {
   "cell_type": "markdown",
   "id": "90530432",
   "metadata": {},
   "source": [
    "Write a program to count total number of \"Sai\" in the file"
   ]
  },
  {
   "cell_type": "code",
   "execution_count": 32,
   "id": "0cee55ca",
   "metadata": {},
   "outputs": [
    {
     "name": "stdout",
     "output_type": "stream",
     "text": [
      "1\n"
     ]
    }
   ],
   "source": [
    "a = open(\"nthdata.txt\", \"r\")\n",
    "word = \"Sai\"\n",
    "b = a.read()\n",
    "c = b.split(\",\")\n",
    "d = c.count(word)\n",
    "print(d)"
   ]
  },
  {
   "cell_type": "markdown",
   "id": "a7baf98d",
   "metadata": {},
   "source": [
    "Write a program to fetch first word from each line"
   ]
  },
  {
   "cell_type": "code",
   "execution_count": 41,
   "id": "e65cafbd",
   "metadata": {},
   "outputs": [
    {
     "name": "stdout",
     "output_type": "stream",
     "text": [
      "TCS\n",
      "INFOSYS\n",
      "WIPRO\n",
      "CTS\n",
      "NTH\n",
      "ABC\n"
     ]
    }
   ],
   "source": [
    "a = open(\"nthdata.txt\", \"r\")\n",
    "b = a.readlines()\n",
    "for i in range(len(b)):\n",
    "    c = b[i]\n",
    "    d = c.split(\",\")\n",
    "    print(d[0])"
   ]
  },
  {
   "cell_type": "markdown",
   "id": "f326cd31",
   "metadata": {},
   "source": [
    "Write a program to fetch last word from each line"
   ]
  },
  {
   "cell_type": "code",
   "execution_count": 42,
   "id": "a76725ed",
   "metadata": {},
   "outputs": [
    {
     "name": "stdout",
     "output_type": "stream",
     "text": [
      "Sas\n",
      "\n",
      "Mishra\n",
      "\n",
      "Arjuna\n",
      "\n",
      "Saroj\n",
      "\n",
      "Aha\n",
      "\n",
      "Nikhilesh\n"
     ]
    }
   ],
   "source": [
    "a = open(\"nthdata.txt\", \"r\")\n",
    "b = a.readlines()\n",
    "for i in range(len(b)):\n",
    "    c = b[i]\n",
    "    d = c.split(\",\")\n",
    "    print(d[-1])"
   ]
  },
  {
   "cell_type": "markdown",
   "id": "00acc3b8",
   "metadata": {},
   "source": [
    "fetch all words which starts with \"a\""
   ]
  },
  {
   "cell_type": "code",
   "execution_count": 10,
   "id": "20bcfbfd",
   "metadata": {},
   "outputs": [
    {
     "name": "stdout",
     "output_type": "stream",
     "text": [
      "Amelia\n",
      "Arjuna\n",
      "Akhil\n",
      "Arha\n",
      "Ananya\n",
      "Aha\n",
      "ABC\n",
      "Arha\n"
     ]
    }
   ],
   "source": [
    "with open(\"nthdata.txt\", \"r\") as file:\n",
    "    b = file.read()\n",
    "    data = b.replace(\"\\n\",\",\")\n",
    "    data = data.split(\",\")\n",
    "    for i in data:\n",
    "            if i.startswith((\"a\",\"A\")):\n",
    "                  print(i)"
   ]
  },
  {
   "cell_type": "markdown",
   "id": "512ca9b4",
   "metadata": {},
   "source": [
    "fetch all words which ends with an vowel"
   ]
  },
  {
   "cell_type": "code",
   "execution_count": 18,
   "id": "ea25832a",
   "metadata": {},
   "outputs": [
    {
     "name": "stdout",
     "output_type": "stream",
     "text": [
      "['Sai', 'Satya', 'Dhoni', 'Kohli', 'Koti', 'Prabha', 'Soumya', 'Mishra', 'WIPRO', 'Satya', 'Kohli', 'Chinna', 'Amelia', 'Arjuna', 'Prabha', 'Subha', 'Debha', 'Rabha', 'Dhoni', 'Surya', 'Narayana', 'Arha', 'Sravya', 'Ananya', 'Aha', 'Arha', 'Chinna', 'Satya', 'Dhoni']\n"
     ]
    }
   ],
   "source": [
    "with open(\"nthdata.txt\",\"r\") as file:\n",
    "    vowels = \"aeiouAEIOU\"\n",
    "    b = file.read()\n",
    "    data = b.replace(\"\\n\",\",\")\n",
    "    data = data.split(\",\")\n",
    "    result = [item for item in data if item[-1] in vowels]\n",
    "    print(result)"
   ]
  },
  {
   "cell_type": "markdown",
   "id": "ed3382f8",
   "metadata": {},
   "source": [
    "fetch all words which has \"a\" or \"i\" in them"
   ]
  },
  {
   "cell_type": "code",
   "execution_count": 22,
   "id": "f682afb3",
   "metadata": {},
   "outputs": [
    {
     "name": "stdout",
     "output_type": "stream",
     "text": [
      "['Sai', 'Satya', 'Sarath', 'Saroj', 'Venkat', 'Sas', 'Santosh', 'Venkat', 'Prabha', 'Soumya', 'Mishra', 'Satya', 'Ram', 'Chinna', 'Amelia', 'Arjuna', 'Prabha', 'Subha', 'Debha', 'Rabha', 'Venkat', 'Surya', 'Saroj', 'Narayana', 'Arha', 'Venkat', 'Sravya', 'Ananya', 'Revanth', 'Aha', 'Arha', 'Chinna', 'Satya', 'Venkat', 'Yash']\n"
     ]
    }
   ],
   "source": [
    "with open(\"nthdata.txt\",\"r\") as file:\n",
    "    b = file.read()\n",
    "    data = b.replace(\"\\n\",\",\")\n",
    "    data = data.split(\",\")\n",
    "    result = [item for item in data if (\"a\"or\"A\"or\"i\"or\"I\") in item]\n",
    "    print(result)"
   ]
  },
  {
   "cell_type": "markdown",
   "id": "9d24b0c6",
   "metadata": {},
   "source": [
    "fetch words with length ==5"
   ]
  },
  {
   "cell_type": "code",
   "execution_count": 23,
   "id": "0627f213",
   "metadata": {},
   "outputs": [
    {
     "name": "stdout",
     "output_type": "stream",
     "text": [
      "['Rohit', 'Satya', 'Dhoni', 'Saroj', 'Kohli', 'WIPRO', 'Satya', 'Kohli', 'Subha', 'Debha', 'Rabha', 'Dhoni', 'Surya', 'Saroj', 'Akhil', 'Satya', 'Dhoni', 'Rohit']\n"
     ]
    }
   ],
   "source": [
    "with open(\"nthdata.txt\",\"r\") as file:\n",
    "    b = file.read()\n",
    "    data = b.replace(\"\\n\",\",\")\n",
    "    data = data.split(\",\")\n",
    "    result =[item for item in data if len(item)==5]\n",
    "    print(result)"
   ]
  },
  {
   "cell_type": "markdown",
   "id": "89c57c19",
   "metadata": {},
   "source": [
    "fetch words which has no vowels except i "
   ]
  },
  {
   "cell_type": "code",
   "execution_count": 46,
   "id": "4ed2dc68",
   "metadata": {},
   "outputs": [
    {
     "name": "stdout",
     "output_type": "stream",
     "text": [
      "[]\n"
     ]
    }
   ],
   "source": [
    "with open(\"nthdata.txt\",\"r\") as file:\n",
    "    \n",
    "    b = file.read()\n",
    "    data = b.replace(\"\\n\",\",\")\n",
    "    data = data.split(\",\")\n",
    "    result = [item for item in data if(\"i\" in item or \"I\" in item) and all(v not in item for v in \"aeouAEOU\" )]\n",
    "print(result)"
   ]
  },
  {
   "cell_type": "markdown",
   "id": "1f40cd85",
   "metadata": {},
   "source": [
    "fetch all words which endswith uppercase character"
   ]
  },
  {
   "cell_type": "code",
   "execution_count": 47,
   "id": "dcdf669d",
   "metadata": {},
   "outputs": [
    {
     "name": "stdout",
     "output_type": "stream",
     "text": [
      "['TCS', 'INFOSYS', 'WIPRO', 'CTS', 'NTH', 'ABC']\n"
     ]
    }
   ],
   "source": [
    "with open(\"nthdata.txt\",\"r\") as file:\n",
    "    b = file.read()\n",
    "    data = b.replace(\"\\n\",\",\")\n",
    "    data = data.split(\",\")\n",
    "    result = [item for item in data if item[-1].isupper()]\n",
    "    print(result)"
   ]
  },
  {
   "cell_type": "markdown",
   "id": "00515164",
   "metadata": {},
   "source": [
    "count total number of characters excluding commas and \\ns"
   ]
  },
  {
   "cell_type": "code",
   "execution_count": 53,
   "id": "958918ee",
   "metadata": {},
   "outputs": [
    {
     "name": "stdout",
     "output_type": "stream",
     "text": [
      "total number of characters are  273\n"
     ]
    }
   ],
   "source": [
    "with open(\"nthdata.txt\",\"r\") as file:\n",
    "    character = 0\n",
    "    b = file.read()\n",
    "    for item in data:\n",
    "        for i in item:\n",
    "            if (\",\"!=i!=\"\\n\"):\n",
    "                character +=1\n",
    "print(\"total number of characters are \",character)"
   ]
  },
  {
   "cell_type": "markdown",
   "id": "f2e99536",
   "metadata": {},
   "source": [
    "count total number of words in file"
   ]
  },
  {
   "cell_type": "code",
   "execution_count": 54,
   "id": "cc5e8744",
   "metadata": {},
   "outputs": [
    {
     "name": "stdout",
     "output_type": "stream",
     "text": [
      "total number of words are  53\n"
     ]
    }
   ],
   "source": [
    "with open(\"nthdata.txt\",\"r\") as file:\n",
    "    words = 0\n",
    "    b = file.read()\n",
    "    for item in data:\n",
    "        words +=1\n",
    "print(\"total number of words are \",words)"
   ]
  },
  {
   "cell_type": "markdown",
   "id": "603aca53",
   "metadata": {},
   "source": [
    "fetch all even number of length of words from each line of file"
   ]
  },
  {
   "cell_type": "code",
   "execution_count": 55,
   "id": "c375e77f",
   "metadata": {},
   "outputs": [
    {
     "name": "stdout",
     "output_type": "stream",
     "text": [
      "['Sarath', 'Venkat', 'Venkat', 'Koti', 'Prabha', 'Soumya', 'Mishra', 'Chinna', 'Amelia', 'Suresh', 'Arjuna', 'Prabha', 'Venkat', 'Narayana', 'Arha', 'Venkat', 'Sravya', 'Ananya', 'Arha', 'Chinna', 'Venkat', 'Yash']\n"
     ]
    }
   ],
   "source": [
    "with open(\"nthdata.txt\",\"r\") as file:\n",
    "    b = file.read()\n",
    "    data = b.replace(\"\\n\",\",\")\n",
    "    data = data.split(\",\")\n",
    "    result = [item for item in data if len(item)%2 == 0]\n",
    "    print(result)"
   ]
  },
  {
   "cell_type": "markdown",
   "id": "8e2c4f5d",
   "metadata": {},
   "source": [
    " fetch all words which ends with 'bha' in the file"
   ]
  },
  {
   "cell_type": "code",
   "execution_count": 56,
   "metadata": {},
   "outputs": [
    {
     "name": "stdout",
     "output_type": "stream",
     "text": [
      "['Prabha', 'Prabha', 'Subha', 'Debha', 'Rabha']\n"
     ]
    }
   ],
   "source": [
    "with open(\"nthdata.txt\",\"r\") as file:\n",
    "    b = file.read()\n",
    "    data = b.replace(\"\\n\",\",\")\n",
    "    data = data.split(\",\")\n",
    "    result = [item for item in data if item.endswith(\"bha\")]\n",
    "    print(result)"
   ]
  },
  {
   "cell_type": "markdown",
   "id": "e0c369b9",
   "metadata": {},
   "source": [
    "program to display all TCS employees?"
   ]
  },
  {
   "cell_type": "code",
   "execution_count": 93,
   "id": "16015d4b",
   "metadata": {},
   "outputs": [
    {
     "name": "stdout",
     "output_type": "stream",
     "text": [
      "[['Sai', 'Rohit', 'Satya', 'Dhoni', 'Sarath', 'Saroj', 'Venkat', 'Sas']]\n"
     ]
    }
   ],
   "source": [
    "with open(\"nthdata.txt\",\"r\") as file:\n",
    "    b = file.read()\n",
    "    # creating a list of elements after each and every enter\n",
    "    data = b.split(\"\\n\")\n",
    "    # breaking each element into sepparate list by comma and storing it\n",
    "    # if company name is TCS then printing employees names\n",
    "    result = [dataset[1:] for dataset in (data[i].split(\",\") for i in range(len(data))) if dataset[0]==\"TCS\"]\n",
    "    print(result)"
   ]
  },
  {
   "cell_type": "markdown",
   "id": "05a99e33",
   "metadata": {},
   "source": [
    "Display the company name of Chinna Employee?"
   ]
  },
  {
   "cell_type": "code",
   "execution_count": 91,
   "id": "ce22b2ac",
   "metadata": {},
   "outputs": [
    {
     "name": "stdout",
     "output_type": "stream",
     "text": [
      "['WIPRO', 'ABC']\n"
     ]
    }
   ],
   "source": [
    "with open(\"nthdata.txt\",\"r\") as file:\n",
    "    b = file.read()\n",
    "    employee = \"Chinna\"\n",
    "    # creating a list of elements after each and every enter\n",
    "    data = b.split(\"\\n\")\n",
    "    result = [dataset[0] for dataset in (data[i].split(\",\") for i in range(len(data))) if employee in dataset]\n",
    "    print(result)"
   ]
  },
  {
   "cell_type": "markdown",
   "id": "3e37f704",
   "metadata": {},
   "source": [
    " fetch the 2nd from 3rd line in the file?"
   ]
  },
  {
   "cell_type": "code",
   "execution_count": null,
   "id": "4bd5de5e",
   "metadata": {},
   "outputs": [],
   "source": []
  }
 ],
 "metadata": {
  "kernelspec": {
   "display_name": ".venv",
   "language": "python",
   "name": "python3"
  },
  "language_info": {
   "codemirror_mode": {
    "name": "ipython",
    "version": 3
   },
   "file_extension": ".py",
   "mimetype": "text/x-python",
   "name": "python",
   "nbconvert_exporter": "python",
   "pygments_lexer": "ipython3",
   "version": "3.9.13"
  }
 },
 "nbformat": 4,
 "nbformat_minor": 5
}
