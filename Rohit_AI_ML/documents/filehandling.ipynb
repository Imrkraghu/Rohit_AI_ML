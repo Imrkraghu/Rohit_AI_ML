{
 "cells": [
  {
   "cell_type": "markdown",
   "id": "b47f0ebb",
   "metadata": {},
   "source": [
    "write a program to fetch all data from the file"
   ]
  },
  {
   "cell_type": "code",
   "execution_count": null,
   "id": "49de623f",
   "metadata": {},
   "outputs": [
    {
     "name": "stdout",
     "output_type": "stream",
     "text": [
      "Lorem ipsum dolor sit amet . The graphic and typographic operators know this well, in reality all the professions dealing with the universe of communication have a stable relationship with these words, but what is it? Lorem ipsum is a dummy text without any sense.\n",
      "\n",
      "It is a sequence of Latin words that, as they are positioned, do not form sentences with a complete sense, but give life to a test text useful to fill spaces that will subsequently be occupied from ad hoc texts composed by communication professionals.\n",
      "\n",
      "It is certainly the most famous placeholder text even if there are different versions distinguishable from the order in which the Latin words are repeated.\n",
      "\n",
      "Lorem ipsum contains the typefaces more in use, an aspect that allows you to have an overview of the rendering of the text in terms of font choice and font size .\n",
      "\n",
      "When referring to Lorem ipsum, different expressions are used, namely fill text , fictitious text , blind text or placeholder text : in short, its meaning can also be zero, but its usefulness is so clear as to go through the centuries and resist the ironic and modern versions that came with the arrival of the web.\n"
     ]
    }
   ],
   "source": [
    "a = open(\"nthdata.txt\", \"r\")\n",
    "b = a.read()\n",
    "print(b)\n",
    "a.close()"
   ]
  },
  {
   "cell_type": "markdown",
   "id": "06962452",
   "metadata": {},
   "source": [
    "Write a program to read the first line from the file"
   ]
  },
  {
   "cell_type": "code",
   "execution_count": null,
   "id": "d80cd8f1",
   "metadata": {},
   "outputs": [
    {
     "name": "stdout",
     "output_type": "stream",
     "text": [
      "TCS,Sai,Rohit,Satya,Dhoni,Sarath,Saroj,Venkat,Sas\n",
      "\n"
     ]
    }
   ],
   "source": [
    "a = open(\"nthdata.txt\", \"r\")\n",
    "b = a.readline()\n",
    "print(b)\n",
    "a.close()"
   ]
  },
  {
   "cell_type": "markdown",
   "id": "db91508e",
   "metadata": {},
   "source": [
    "Write a program to read the last line from the file"
   ]
  },
  {
   "cell_type": "code",
   "execution_count": 6,
   "id": "ab707c0a",
   "metadata": {},
   "outputs": [
    {
     "name": "stdout",
     "output_type": "stream",
     "text": [
      "ABC,Arha,Chinna,Satya,Dhoni,Venkat,Rohit,Yash,Nikhilesh\n"
     ]
    }
   ],
   "source": [
    "a = open(\"nthdata.txt\", \"r\")\n",
    "b = a.readlines()\n",
    "c = b[-1]\n",
    "print(c)"
   ]
  },
  {
   "cell_type": "markdown",
   "id": "05296f36",
   "metadata": {},
   "source": [
    "Write a program to read the 3rd line from the file"
   ]
  },
  {
   "cell_type": "code",
   "execution_count": 12,
   "id": "9f219b37",
   "metadata": {},
   "outputs": [
    {
     "name": "stdout",
     "output_type": "stream",
     "text": [
      "WIPRO,Satya,Kohli,Ram,Chinna,Pop,Amelia,Suresh,Arjuna\n",
      "\n"
     ]
    }
   ],
   "source": [
    "a = open(\"nthdata.txt\", \"r\")\n",
    "b = a.readlines()\n",
    "c = b[2]\n",
    "print(c)\n",
    "a.close()"
   ]
  },
  {
   "cell_type": "markdown",
   "id": "5651ec7b",
   "metadata": {},
   "source": [
    "Write a program to count total number of character in the file"
   ]
  },
  {
   "cell_type": "code",
   "execution_count": 13,
   "id": "9e068266",
   "metadata": {},
   "outputs": [
    {
     "name": "stdout",
     "output_type": "stream",
     "text": [
      "325\n"
     ]
    }
   ],
   "source": [
    "a = open(\"nthdata.txt\", \"r\")\n",
    "b = a.read()\n",
    "print(len(b))\n",
    "a.close()"
   ]
  },
  {
   "cell_type": "markdown",
   "id": "f7cee27e",
   "metadata": {},
   "source": [
    "Write a Program to count total number of comma in the file"
   ]
  },
  {
   "cell_type": "code",
   "execution_count": 17,
   "id": "cc29daae",
   "metadata": {},
   "outputs": [
    {
     "name": "stdout",
     "output_type": "stream",
     "text": [
      "47\n"
     ]
    }
   ],
   "source": [
    "a = open(\"nthdata.txt\", \"r\")\n",
    "b = a.read()\n",
    "c = b.count(',')\n",
    "print(c)\n",
    "a.close()"
   ]
  },
  {
   "cell_type": "markdown",
   "id": "ae94f1d9",
   "metadata": {},
   "source": [
    "Write a progrsm to count total number of words in the 1st line in the file"
   ]
  },
  {
   "cell_type": "code",
   "execution_count": 23,
   "id": "4bfeee92",
   "metadata": {},
   "outputs": [
    {
     "name": "stdout",
     "output_type": "stream",
     "text": [
      "9\n"
     ]
    }
   ],
   "source": [
    "a = open(\"nthdata.txt\", \"r\")\n",
    "b = a.readline()\n",
    "c = b.split(',')\n",
    "print(len(c))"
   ]
  },
  {
   "cell_type": "markdown",
   "id": "a50f566e",
   "metadata": {},
   "source": [
    "Write a progrsm to count total number of lines in the files"
   ]
  },
  {
   "cell_type": "code",
   "execution_count": null,
   "id": "6d49ab60",
   "metadata": {},
   "outputs": [
    {
     "name": "stdout",
     "output_type": "stream",
     "text": [
      "6\n"
     ]
    }
   ],
   "source": [
    "a = open(\"nthdata.txt\", \"r\")\n",
    "b = a.readlines()\n",
    "print(len(b))\n",
    "a.close()"
   ]
  },
  {
   "cell_type": "markdown",
   "id": "90530432",
   "metadata": {},
   "source": [
    "Write a program to count total number of \"Sai\" in the file"
   ]
  },
  {
   "cell_type": "code",
   "execution_count": 32,
   "id": "0cee55ca",
   "metadata": {},
   "outputs": [
    {
     "name": "stdout",
     "output_type": "stream",
     "text": [
      "1\n"
     ]
    }
   ],
   "source": [
    "a = open(\"nthdata.txt\", \"r\")\n",
    "word = \"Sai\"\n",
    "b = a.read()\n",
    "c = b.split(\",\")\n",
    "d = c.count(word)\n",
    "print(d)"
   ]
  },
  {
   "cell_type": "markdown",
   "id": "a7baf98d",
   "metadata": {},
   "source": [
    "Write a program to fetch first word from each line"
   ]
  },
  {
   "cell_type": "code",
   "execution_count": 41,
   "id": "e65cafbd",
   "metadata": {},
   "outputs": [
    {
     "name": "stdout",
     "output_type": "stream",
     "text": [
      "TCS\n",
      "INFOSYS\n",
      "WIPRO\n",
      "CTS\n",
      "NTH\n",
      "ABC\n"
     ]
    }
   ],
   "source": [
    "a = open(\"nthdata.txt\", \"r\")\n",
    "b = a.readlines()\n",
    "for i in range(len(b)):\n",
    "    c = b[i]\n",
    "    d = c.split(\",\")\n",
    "    print(d[0])"
   ]
  },
  {
   "cell_type": "code",
   "execution_count": null,
   "id": "a76725ed",
   "metadata": {},
   "outputs": [],
   "source": []
  }
 ],
 "metadata": {
  "kernelspec": {
   "display_name": "Python 3",
   "language": "python",
   "name": "python3"
  },
  "language_info": {
   "codemirror_mode": {
    "name": "ipython",
    "version": 3
   },
   "file_extension": ".py",
   "mimetype": "text/x-python",
   "name": "python",
   "nbconvert_exporter": "python",
   "pygments_lexer": "ipython3",
   "version": "3.10.11"
  }
 },
 "nbformat": 4,
 "nbformat_minor": 5
}
