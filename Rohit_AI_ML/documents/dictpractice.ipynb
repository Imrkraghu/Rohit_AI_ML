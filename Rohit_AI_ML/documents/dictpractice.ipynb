{
 "cells": [
  {
   "cell_type": "code",
   "execution_count": 1,
   "metadata": {},
   "outputs": [
    {
     "name": "stdout",
     "output_type": "stream",
     "text": [
      "the old dictionary is {'python': 45, 'english': 68, 'hindi': 78}\n",
      "the new dictionary is {'python': 95, 'english': 68, 'hindi': 78}\n"
     ]
    }
   ],
   "source": [
    "# Create a python dictionary with threee values\n",
    "marks = {\n",
    "    \"python\":45,\n",
    "    \"english\":68,\n",
    "    \"hindi\":78\n",
    "}\n",
    "print(f\"the old dictionary is {marks}\")\n",
    "# updating the values \n",
    "marks[\"python\"] = 95\n",
    "print(f\"the new dictionary is {marks}\")\n"
   ]
  },
  {
   "cell_type": "code",
   "execution_count": 17,
   "metadata": {},
   "outputs": [
    {
     "name": "stdout",
     "output_type": "stream",
     "text": [
      "{'Employee1': {'Name': 'Shubham', 'Age': 28, 'Location': 'Mumbai', 'Salary': {'TCS': 50000, 'Infosys': 60000, 'Wipro': 55000}}, 'Employee2': {'Name': 'Aisha', 'Age': 32, 'Location': 'Mumbai', 'Salary': {'TCS': 65000, 'Wipro': 70000, 'Microsoft': 75000}}, 'Employee3': {'Name': 'Raj', 'Age': 35, 'Location': 'Bangalore', 'Salary': {'Infosys': 70000, 'Microsoft': 80000, 'Google': 85000}}, 'Employee4': {'Name': 'Neha', 'Age': 30, 'Location': 'Chennai', 'Salary': {'TCS': 55000, 'Google': 72000, 'Infosys': 68000}}}\n"
     ]
    }
   ],
   "source": [
    "# Creating a nested dictionary for employees\n",
    "employees = {\n",
    "    \"Employee1\": {\n",
    "        \"Name\": \"Shubham\",\n",
    "        \"Age\": 28,\n",
    "        \"Location\": \"Mumbai\",\n",
    "        \"Salary\": {\n",
    "            \"TCS\": 50000,\n",
    "            \"Infosys\": 60000,\n",
    "            \"Wipro\": 55000\n",
    "        }\n",
    "    },\n",
    "    \"Employee2\": {\n",
    "        \"Name\": \"Aisha\",\n",
    "        \"Age\": 32,\n",
    "        \"Location\": \"Mumbai\",\n",
    "        \"Salary\": {\n",
    "            \"TCS\": 65000,\n",
    "            \"Wipro\": 70000,\n",
    "            \"Microsoft\": 75000\n",
    "        }\n",
    "    },\n",
    "    \"Employee3\": {\n",
    "        \"Name\": \"Raj\",\n",
    "        \"Age\": 35,\n",
    "        \"Location\": \"Bangalore\",\n",
    "        \"Salary\": {\n",
    "            \"Infosys\": 70000,\n",
    "            \"Microsoft\": 80000,\n",
    "            \"Google\": 85000\n",
    "        }\n",
    "    },\n",
    "    \"Employee4\": {\n",
    "        \"Name\": \"Neha\",\n",
    "        \"Age\": 30,\n",
    "        \"Location\": \"Chennai\",\n",
    "        \"Salary\": {\n",
    "            \"TCS\": 55000,\n",
    "            \"Google\": 72000,\n",
    "            \"Infosys\": 68000\n",
    "        }\n",
    "    }\n",
    "}\n",
    "\n",
    "# Printing the nested dictionary\n",
    "print(employees)\n"
   ]
  },
  {
   "cell_type": "markdown",
   "metadata": {},
   "source": [
    "printing the name of the employee if the age is less than 30"
   ]
  },
  {
   "cell_type": "code",
   "execution_count": 8,
   "metadata": {},
   "outputs": [
    {
     "name": "stdout",
     "output_type": "stream",
     "text": [
      "Shubham\n"
     ]
    }
   ],
   "source": [
    "for empid, empdetails in employees.items():\n",
    "    if empdetails[\"Age\"] <30:\n",
    "        print(empdetails[\"Name\"])"
   ]
  },
  {
   "cell_type": "markdown",
   "metadata": {},
   "source": [
    "printing name of the employees woriking in delhi"
   ]
  },
  {
   "cell_type": "code",
   "execution_count": 18,
   "metadata": {},
   "outputs": [
    {
     "name": "stdout",
     "output_type": "stream",
     "text": [
      "['Shubham', 'Aisha']\n"
     ]
    }
   ],
   "source": [
    "# Loop through the dictionary and return names if location is Delhi \n",
    "delhi_employees = [emp_details[\"Name\"] for emp_details in employees.values() if emp_details[\"Location\"] == \"Mumbai\"] \n",
    "print(delhi_employees)"
   ]
  },
  {
   "cell_type": "code",
   "execution_count": 25,
   "metadata": {},
   "outputs": [
    {
     "name": "stdout",
     "output_type": "stream",
     "text": [
      "Shubham Aisha\n"
     ]
    }
   ],
   "source": [
    "print(*(empdetails[\"Name\"] for empdetails in employees.values() if empdetails[\"Location\"]== \"Mumbai\"))"
   ]
  },
  {
   "cell_type": "code",
   "execution_count": 32,
   "metadata": {},
   "outputs": [
    {
     "name": "stdout",
     "output_type": "stream",
     "text": [
      "15 30\n"
     ]
    }
   ],
   "source": [
    "lst = [5, 10, 15, 25, 30, 35, 40]\n",
    "# Using a list comprehension to filter elements\n",
    "print(*(x for x in lst if (x % 3 == 0 and x % 5 == 0)))"
   ]
  },
  {
   "cell_type": "code",
   "execution_count": null,
   "metadata": {},
   "outputs": [],
   "source": []
  }
 ],
 "metadata": {
  "kernelspec": {
   "display_name": "Python 3",
   "language": "python",
   "name": "python3"
  },
  "language_info": {
   "codemirror_mode": {
    "name": "ipython",
    "version": 3
   },
   "file_extension": ".py",
   "mimetype": "text/x-python",
   "name": "python",
   "nbconvert_exporter": "python",
   "pygments_lexer": "ipython3",
   "version": "3.10.11"
  }
 },
 "nbformat": 4,
 "nbformat_minor": 2
}
